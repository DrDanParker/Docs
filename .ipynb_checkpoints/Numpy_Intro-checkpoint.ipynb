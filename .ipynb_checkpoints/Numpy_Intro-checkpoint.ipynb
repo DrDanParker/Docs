{
 "cells": [
  {
   "cell_type": "markdown",
   "metadata": {},
   "source": [
    "# Numpy \n",
    "## Introduction and Application\n",
    "\n",
    "### Standard Syntax\n",
    "\n",
    "when loading the numpy package it is common to use the following:"
   ]
  },
  {
   "cell_type": "code",
   "execution_count": 2,
   "metadata": {
    "collapsed": true
   },
   "outputs": [],
   "source": [
    "import numpy as np"
   ]
  },
  {
   "cell_type": "markdown",
   "metadata": {},
   "source": [
    "### Usage\n",
    "Numpy can be used to generate structured arrays, to compute basic and arithmetic opperaions in vector or matrix format, to solve linear equations and for basic statistics. \n",
    "\n",
    "### Basic Operations\n",
    "\n",
    "#### List conversion\n",
    "Lists can be converted to numpy arrays using the np.array(LIST) operation"
   ]
  },
  {
   "cell_type": "code",
   "execution_count": 11,
   "metadata": {},
   "outputs": [
    {
     "name": "stdout",
     "output_type": "stream",
     "text": [
      "Vector Array:\n",
      "[1 2 3]\n",
      "Matrix Array:\n",
      "[[1 1]\n",
      " [2 2]\n",
      " [3 3]]\n"
     ]
    }
   ],
   "source": [
    "VectorList = [1,2,3]\n",
    "MatrixList = [[1,1],[2,2],[3,3]]\n",
    "\n",
    "VArray = np.array(VectorList)\n",
    "MArray = np.array(MatrixList)\n",
    "\n",
    "print('Vector Array:')\n",
    "print(VArray)\n",
    "print('Matrix Array:')\n",
    "print(MArray)"
   ]
  },
  {
   "cell_type": "markdown",
   "metadata": {},
   "source": [
    "#### Descriptives\n",
    "Descriptive details like type(Array) and Array.shape can be performed on numpy arrays"
   ]
  },
  {
   "cell_type": "code",
   "execution_count": 12,
   "metadata": {},
   "outputs": [
    {
     "name": "stdout",
     "output_type": "stream",
     "text": [
      "<class 'numpy.ndarray'>\n",
      "(3,)\n",
      "(3, 2)\n"
     ]
    }
   ],
   "source": [
    "print(type(VArray)) #note type() function used as type is a fixed value\n",
    "\n",
    "print(VArray.shape) # Array.shape used as shape is a variable feature of the array\n",
    "print(MArray.shape) # 2D shape is returned as (number of lists, length of lists)"
   ]
  },
  {
   "cell_type": "markdown",
   "metadata": {},
   "source": [
    "#### Generating Arrays\n",
    "Arrays can be generated as empty, zero, nan, full or in other more complex cominations"
   ]
  },
  {
   "cell_type": "code",
   "execution_count": 23,
   "metadata": {},
   "outputs": [
    {
     "name": "stdout",
     "output_type": "stream",
     "text": [
      "A:\n",
      "[[ 0.  0.  0.]\n",
      " [ 0.  0.  0.]]\n",
      "B:\n",
      "[[5 5 5]\n",
      " [5 5 5]]\n",
      "C:\n",
      "[['NaN' 'NaN' 'NaN']\n",
      " ['NaN' 'NaN' 'NaN']]\n",
      "D:\n",
      "[[ 1.  0.  0.]\n",
      " [ 0.  1.  0.]\n",
      " [ 0.  0.  1.]]\n"
     ]
    }
   ],
   "source": [
    "A = np.zeros((2,3))      # fills the array with the value 0 array size and dimension can be adjusted\n",
    "B = np.full((2,3),5)     # fills the array with the value 5 \n",
    "C = np.full((2,3),'NaN') # fills the array with the string 'NaN\n",
    "D = np.eye(3,3)        # creates an eye array\n",
    "\n",
    "print('A:')\n",
    "print(A)\n",
    "print('B:')\n",
    "print(B)\n",
    "print('C:')\n",
    "print(C)\n",
    "print('D:')\n",
    "print(D)"
   ]
  },
  {
   "cell_type": "markdown",
   "metadata": {},
   "source": [
    "#### Indexing of arrays takes the following format \n",
    "\n",
    "Vector = \n",
    "\n",
    "     [6, 2, 8, 9, 2, 5, 4, 7, 1, 6]\n",
    "      0, 1, 2, 3, 4, 5, 6, 7, 8, 9    Forward Indexing\n",
    "    -10,-9,-8,-7,-6,-5,-4,-3,-2,-1    Backward Indexing\n",
    "        \n",
    "This means the first value of Vector can be called with either 0 or its (length)*-1\n",
    "\n",
    "While the last value can be called using either its length-1 or -1\n",
    "\n",
    "#### Index functions\n",
    "\n",
    "Vector[start:end] is the notation used to select a section of an array\n",
    "\n",
    "The range is from the start value __**upto but not including**__ the end value\n",
    "\n",
    "a range of selection types exist:"
   ]
  },
  {
   "cell_type": "code",
   "execution_count": 3,
   "metadata": {},
   "outputs": [
    {
     "name": "stdout",
     "output_type": "stream",
     "text": [
      "aV:   [2 8 9]\n",
      "bV:   [9 2 5 4 7 1 6]\n",
      "cV:   [6 2 8 9 2 5]\n",
      "dV:   [6 2 8 9 2 5 4 7 1 6]\n",
      "rV:   [6 1 7 4 5 2 9 8 2 6]\n",
      "lV:   [6 2 8 9 2 5 4 7 1 6 3 5 6]\n"
     ]
    }
   ],
   "source": [
    "Vector =  np.array([6, 2, 8, 9, 2, 5, 4, 7, 1, 6])\n",
    "\n",
    "aV = Vector[1:4]    # Following forward indexing, 1 is the second value, 4 is upto the 4th value\n",
    "bV = Vector[3:]     # Returns all values from the 4th value to end of array\n",
    "cV = Vector[:6]     # Returns all values upto the 6th value\n",
    "dV = Vector[:]      # Returns all values, can be used to copy an array\n",
    "\n",
    "rV = Vector[::-1]   # Reverses the direction of the array\n",
    "\n",
    "### Create and add a second vector to the end of Vector:\n",
    "Vect2 = np.array([3,5,6])\n",
    "lV = np.concatenate([Vector,Vect2]) \n",
    "\n",
    "\n",
    "print('aV:  ',aV)\n",
    "print('bV:  ',bV)\n",
    "print('cV:  ',cV)\n",
    "print('dV:  ',dV)\n",
    "print('rV:  ',rV)\n",
    "print('lV:  ',lV)\n"
   ]
  },
  {
   "cell_type": "markdown",
   "metadata": {},
   "source": [
    "#### Vector manipulation\n",
    "\n",
    "addition, subtraction, multiplication and division can be performed on vectors in a range of ways\n",
    "\n",
    "Basic addition or subtraction are performed on an element wise basis and produce a vector output of the same length of the input vectors. \n",
    "\n",
    "[a1, a2] + [b1, b2] = [a1+b1, a2+b2] \n",
    "\n",
    "\n"
   ]
  },
  {
   "cell_type": "code",
   "execution_count": 4,
   "metadata": {},
   "outputs": [
    {
     "name": "stdout",
     "output_type": "stream",
     "text": [
      "aV:   [2 6 9]\n",
      "bV:   [3 4 5]\n",
      "cV:   [ 0 -2 -3]\n",
      "dV:   [-1  0  1]\n"
     ]
    }
   ],
   "source": [
    "A = np.array([1,2,3])\n",
    "B = np.array([1,4,6])\n",
    "\n",
    "aV = A+B #Vector additon\n",
    "bV = A+2 #Value addition to vector\n",
    "cV = A-B #Vector subtraction\n",
    "dV = A-2 #Value subtraction from vector\n",
    "\n",
    "print('aV:  ',aV)\n",
    "print('bV:  ',bV)\n",
    "print('cV:  ',cV)\n",
    "print('dV:  ',dV)\n"
   ]
  },
  {
   "cell_type": "code",
   "execution_count": null,
   "metadata": {
    "collapsed": true
   },
   "outputs": [],
   "source": []
  }
 ],
 "metadata": {
  "kernelspec": {
   "display_name": "Python 3",
   "language": "python",
   "name": "python3"
  },
  "language_info": {
   "codemirror_mode": {
    "name": "ipython",
    "version": 3
   },
   "file_extension": ".py",
   "mimetype": "text/x-python",
   "name": "python",
   "nbconvert_exporter": "python",
   "pygments_lexer": "ipython3",
   "version": "3.6.3"
  }
 },
 "nbformat": 4,
 "nbformat_minor": 2
}
