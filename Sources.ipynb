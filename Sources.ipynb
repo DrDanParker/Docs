{
 "cells": [
  {
   "cell_type": "markdown",
   "metadata": {},
   "source": [
    "# Source\n",
    "\n",
    "## Python \n",
    "\n",
    "### Docs\n",
    "Guidelines to the style, method and funcion of different variables can be found in the official docs\n",
    "\n",
    "PEP8 - python style guide\n",
    "\n",
    "\n",
    "### Training\n",
    "Sources of training range from free to paid courses.\n",
    "Depending on your need and time free courses will often help considerably \n",
    "\n",
    "Courses I have previously done:\n",
    "\n",
    "\n",
    "### Practice\n",
    "\n",
    "To learn to code you need to code, the following are excelent hoasted exercises and worksheets for a range of python tasks and challenges. \n",
    "\n",
    "Exercism.io - test based program with discussions about the solution and ways to improve your results\n",
    "\n"
   ]
  }
 ],
 "metadata": {
  "kernelspec": {
   "display_name": "Python 3",
   "language": "python",
   "name": "python3"
  },
  "language_info": {
   "codemirror_mode": {
    "name": "ipython",
    "version": 3
   },
   "file_extension": ".py",
   "mimetype": "text/x-python",
   "name": "python",
   "nbconvert_exporter": "python",
   "pygments_lexer": "ipython3",
   "version": "3.6.3"
  }
 },
 "nbformat": 4,
 "nbformat_minor": 2
}
